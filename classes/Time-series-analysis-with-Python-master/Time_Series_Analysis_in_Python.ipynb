{
  "cells": [
    {
      "cell_type": "markdown",
      "metadata": {
        "id": "e5IoOLDcb7G2"
      },
      "source": [
        "# Анализ временных рядов в Python\n",
        "\n",
        "Временной ряд — это набор данных, записанных в разные временные интервалы. Анализ временного ряда означает анализ данных временного ряда с использованием различных статистических инструментов и методов. В этом проекте анализируется набор данных временного ряда **Parking Birmingham**, загруженный из репозитория машинного обучения UCI.\n"
      ]
    },
    {
      "cell_type": "markdown",
      "metadata": {
        "id": "ayEGYt5vb7G4"
      },
      "source": [
        "## Содержание\n",
        "\n",
        "1. Введение во временные ряды\n",
        "\n",
        "2. Типы данных\n",
        "\n",
        "3. Терминология временных рядов\n",
        "\n",
        "4. Импорт пакетов Python\n",
        "\n",
        "5. Импорт набора данных\n",
        "\n",
        "6. Описание набора данных\n",
        "\n",
        "7. Анализ разведочных данных\n",
        "\n",
        "8. Индексирование с данными временных рядов\n",
        "\n",
        "9. Повторная выборка данных временных рядов\n",
        "\n",
        "10. Обработка пропущенных значений в данных временных рядов\n",
        "\n",
        "11. Визуализация данных временных рядов\n",
        "\n",
        "12. Сезонная декомпозиция с данными временных рядов\n",
        "\n",
        "13. Модель временных рядов ARIMA\n",
        "\n",
        "14. Выбор параметров для модели временных рядов ARIMA\n",
        "\n",
        "15. Подгонка модели временных рядов ARIMA\n",
        "\n",
        "16. Создание и визуализация прогнозов\n",
        "\n",
        "17. Заключение\n",
        "\n",
        "18. Литература"
      ]
    },
    {
      "cell_type": "markdown",
      "metadata": {
        "id": "e-blLmAsb7G5"
      },
      "source": [
        "## 1. Введение во временные ряды\n",
        "\n",
        "**Временные ряды** — это набор данных или наблюдений, записанных через разные или регулярные интервалы времени. В общем случае временные ряды — это последовательность набора данных, которые получены через равные интервалы времени. Частота записанных значений может быть выражена через часы, ежедный, еженедельный, ежемесячный, ежеквартальный или ежегодный интервал времени.\n",
        "\n",
        "Анализ временных рядов охватывает статистические методы анализа данных временных рядов. Эти методы позволяют извлекать значимую статистику, закономерности и другие характеристики данных.\n",
        "\n",
        "**Временные ряды** визуализируются с помощью линейных диаграмм. Таким образом, анализ временных рядов включает понимание неотъемлемых аспектов работы с временными рядами, чтобы  создавать точные прогнозы.\n",
        "\n",
        "Приложения c временными рядами используются в статистике, финансах или бизнес-приложениях. Очень распространенным примером временных рядов является ежедневное значение закрытия фондового индекса, такого как NASDAQ или Dow Jones. Другие распространенные приложения временных рядов — прогнозирование продаж и спроса, прогнозирование погоды, эконометрика, обработка сигналов, распознавание образов и прогнозирование землетрясений.\n",
        "\n",
        "В этом проекте проводится анализ временных рядов набора данных **Parking Birmingham**, загруженного из репозитория машинного обучения UCI.\n"
      ]
    },
    {
      "cell_type": "markdown",
      "metadata": {
        "id": "0t_3SGu6b7G5"
      },
      "source": [
        "## 2. Типы данных\n",
        "\n",
        "\n",
        "**Анализ временных рядов** — это статистический анализ данных временных рядов. Данные временных рядов означают, что информация записывается в разные периоды или интервалы времени. Данные временных рядов могут быть трех типов:\n",
        "\n",
        "1. **Данные временных рядов** — Наблюдения за значениями переменной, записанные в разные моменты времени, называются данными временных рядов.\n",
        "\n",
        "2. **Поперечные данные** — Это данные одной или нескольких переменных, записанные в один и тот же момент времени.\n",
        "\n",
        "3. **Объединенные данные** — это сочетание данных временных рядов и поперечных данных.\n"
      ]
    },
    {
      "cell_type": "markdown",
      "metadata": {
        "id": "4wMnVWHEb7G5"
      },
      "source": [
        "## 3. Терминология временных рядов\n",
        "\n",
        "Определим основные термины:\n",
        "\n",
        "1. **Зависимость (Dependence) **— Относится к взаимосвязи между двумя наблюдениями одной и той же переменной в предыдущие временные периоды.\n",
        "\n",
        "2. **Стационарность (Stationarity)** — Указывает на то, что среднее значение ряда остается постоянным на протяжении всего временного периода. Если влияние прошлых событий накапливается и значения стремятся к бесконечности, условие стационарности не выполняется.\n",
        "\n",
        "3. **Дифференцирование (Differencing)** — Используется для приведения ряда к стационарному состоянию и контроля автокорреляции. В некоторых случаях анализа временных рядов дифференцирование может не требоваться, а многократное дифференцирование может привести к неверным оценкам.\n",
        "\n",
        "4. **Спецификация (Specification)** — Может включать тестирование линейных или нелинейных взаимосвязей зависимых переменных с использованием моделей временных рядов, таких как модели ARIMA.\n",
        "\n",
        "5. **Экспоненциальное сглаживание (Exponential Smoothing)** — Метод, который предсказывает значение следующего периода на основе предыдущих и текущих данных. Он предполагает усреднение данных таким образом, чтобы несистематические компоненты отдельных наблюдений взаимно компенсировались. Экспоненциальное сглаживание используется для краткосрочного прогнозирования.\n",
        "\n",
        "6. **Аппроксимация кривой (Curve fitting)** — Регрессия с аппроксимацией кривой в анализе временных рядов используется, когда данные имеют нелинейную зависимость.\n",
        "\n",
        "7. **ARIMA** —  авторегрессионная интегрированная скользящая средняя.\n"
      ]
    },
    {
      "cell_type": "markdown",
      "metadata": {
        "id": "kSSo6IYLb7G6"
      },
      "source": [
        "## 4. Импорт пакетов Python\n",
        "\n",
        "\n",
        "Для анализа временных рядов понадобятся пакеты Python — numpy, pandas, matplotlib и seaborn.\n",
        "\n",
        "Если требуется, чтобы изображения были построены в  Jupyter Notebook, добавить  команду IPython %matplotlib в код.\n",
        "\n",
        "Кроме этого, используем параметры построения графиков Seaborn по умолчанию с `sns.set()`.\n"
      ]
    },
    {
      "cell_type": "code",
      "execution_count": null,
      "metadata": {
        "id": "KFIKe9BLb7G6"
      },
      "outputs": [],
      "source": [
        "import warnings\n",
        "import itertools\n",
        "import numpy as np\n",
        "import pandas as pd\n",
        "import matplotlib.pyplot as plt\n",
        "import seaborn as sns\n",
        "import statsmodels.api as sm\n",
        "%matplotlib inline\n",
        "sns.set()"
      ]
    },
    {
      "cell_type": "markdown",
      "metadata": {
        "id": "MwsOisvbb7G6"
      },
      "source": [
        "\n",
        "\n",
        "## 5. Импорт набора данных\n",
        "\n",
        "\n",
        "Импорт данных, которые будет использоваться в этом проекте с помощью функции pandas `read_csv()`."
      ]
    },
    {
      "cell_type": "code",
      "source": [
        "from google.colab import files\n",
        "\n",
        "# Вызываем загрузку файла с локального компьютера\n",
        "uploaded = files.upload()"
      ],
      "metadata": {
        "colab": {
          "base_uri": "https://localhost:8080/",
          "height": 73
        },
        "id": "Pi31YaeLb__e",
        "outputId": "f6d8ed1a-1875-4e76-df46-c8c6ce954f0f"
      },
      "execution_count": null,
      "outputs": [
        {
          "output_type": "display_data",
          "data": {
            "text/plain": [
              "<IPython.core.display.HTML object>"
            ],
            "text/html": [
              "\n",
              "     <input type=\"file\" id=\"files-d5372b4c-47fc-4732-87ad-94a225a21d30\" name=\"files[]\" multiple disabled\n",
              "        style=\"border:none\" />\n",
              "     <output id=\"result-d5372b4c-47fc-4732-87ad-94a225a21d30\">\n",
              "      Upload widget is only available when the cell has been executed in the\n",
              "      current browser session. Please rerun this cell to enable.\n",
              "      </output>\n",
              "      <script>// Copyright 2017 Google LLC\n",
              "//\n",
              "// Licensed under the Apache License, Version 2.0 (the \"License\");\n",
              "// you may not use this file except in compliance with the License.\n",
              "// You may obtain a copy of the License at\n",
              "//\n",
              "//      http://www.apache.org/licenses/LICENSE-2.0\n",
              "//\n",
              "// Unless required by applicable law or agreed to in writing, software\n",
              "// distributed under the License is distributed on an \"AS IS\" BASIS,\n",
              "// WITHOUT WARRANTIES OR CONDITIONS OF ANY KIND, either express or implied.\n",
              "// See the License for the specific language governing permissions and\n",
              "// limitations under the License.\n",
              "\n",
              "/**\n",
              " * @fileoverview Helpers for google.colab Python module.\n",
              " */\n",
              "(function(scope) {\n",
              "function span(text, styleAttributes = {}) {\n",
              "  const element = document.createElement('span');\n",
              "  element.textContent = text;\n",
              "  for (const key of Object.keys(styleAttributes)) {\n",
              "    element.style[key] = styleAttributes[key];\n",
              "  }\n",
              "  return element;\n",
              "}\n",
              "\n",
              "// Max number of bytes which will be uploaded at a time.\n",
              "const MAX_PAYLOAD_SIZE = 100 * 1024;\n",
              "\n",
              "function _uploadFiles(inputId, outputId) {\n",
              "  const steps = uploadFilesStep(inputId, outputId);\n",
              "  const outputElement = document.getElementById(outputId);\n",
              "  // Cache steps on the outputElement to make it available for the next call\n",
              "  // to uploadFilesContinue from Python.\n",
              "  outputElement.steps = steps;\n",
              "\n",
              "  return _uploadFilesContinue(outputId);\n",
              "}\n",
              "\n",
              "// This is roughly an async generator (not supported in the browser yet),\n",
              "// where there are multiple asynchronous steps and the Python side is going\n",
              "// to poll for completion of each step.\n",
              "// This uses a Promise to block the python side on completion of each step,\n",
              "// then passes the result of the previous step as the input to the next step.\n",
              "function _uploadFilesContinue(outputId) {\n",
              "  const outputElement = document.getElementById(outputId);\n",
              "  const steps = outputElement.steps;\n",
              "\n",
              "  const next = steps.next(outputElement.lastPromiseValue);\n",
              "  return Promise.resolve(next.value.promise).then((value) => {\n",
              "    // Cache the last promise value to make it available to the next\n",
              "    // step of the generator.\n",
              "    outputElement.lastPromiseValue = value;\n",
              "    return next.value.response;\n",
              "  });\n",
              "}\n",
              "\n",
              "/**\n",
              " * Generator function which is called between each async step of the upload\n",
              " * process.\n",
              " * @param {string} inputId Element ID of the input file picker element.\n",
              " * @param {string} outputId Element ID of the output display.\n",
              " * @return {!Iterable<!Object>} Iterable of next steps.\n",
              " */\n",
              "function* uploadFilesStep(inputId, outputId) {\n",
              "  const inputElement = document.getElementById(inputId);\n",
              "  inputElement.disabled = false;\n",
              "\n",
              "  const outputElement = document.getElementById(outputId);\n",
              "  outputElement.innerHTML = '';\n",
              "\n",
              "  const pickedPromise = new Promise((resolve) => {\n",
              "    inputElement.addEventListener('change', (e) => {\n",
              "      resolve(e.target.files);\n",
              "    });\n",
              "  });\n",
              "\n",
              "  const cancel = document.createElement('button');\n",
              "  inputElement.parentElement.appendChild(cancel);\n",
              "  cancel.textContent = 'Cancel upload';\n",
              "  const cancelPromise = new Promise((resolve) => {\n",
              "    cancel.onclick = () => {\n",
              "      resolve(null);\n",
              "    };\n",
              "  });\n",
              "\n",
              "  // Wait for the user to pick the files.\n",
              "  const files = yield {\n",
              "    promise: Promise.race([pickedPromise, cancelPromise]),\n",
              "    response: {\n",
              "      action: 'starting',\n",
              "    }\n",
              "  };\n",
              "\n",
              "  cancel.remove();\n",
              "\n",
              "  // Disable the input element since further picks are not allowed.\n",
              "  inputElement.disabled = true;\n",
              "\n",
              "  if (!files) {\n",
              "    return {\n",
              "      response: {\n",
              "        action: 'complete',\n",
              "      }\n",
              "    };\n",
              "  }\n",
              "\n",
              "  for (const file of files) {\n",
              "    const li = document.createElement('li');\n",
              "    li.append(span(file.name, {fontWeight: 'bold'}));\n",
              "    li.append(span(\n",
              "        `(${file.type || 'n/a'}) - ${file.size} bytes, ` +\n",
              "        `last modified: ${\n",
              "            file.lastModifiedDate ? file.lastModifiedDate.toLocaleDateString() :\n",
              "                                    'n/a'} - `));\n",
              "    const percent = span('0% done');\n",
              "    li.appendChild(percent);\n",
              "\n",
              "    outputElement.appendChild(li);\n",
              "\n",
              "    const fileDataPromise = new Promise((resolve) => {\n",
              "      const reader = new FileReader();\n",
              "      reader.onload = (e) => {\n",
              "        resolve(e.target.result);\n",
              "      };\n",
              "      reader.readAsArrayBuffer(file);\n",
              "    });\n",
              "    // Wait for the data to be ready.\n",
              "    let fileData = yield {\n",
              "      promise: fileDataPromise,\n",
              "      response: {\n",
              "        action: 'continue',\n",
              "      }\n",
              "    };\n",
              "\n",
              "    // Use a chunked sending to avoid message size limits. See b/62115660.\n",
              "    let position = 0;\n",
              "    do {\n",
              "      const length = Math.min(fileData.byteLength - position, MAX_PAYLOAD_SIZE);\n",
              "      const chunk = new Uint8Array(fileData, position, length);\n",
              "      position += length;\n",
              "\n",
              "      const base64 = btoa(String.fromCharCode.apply(null, chunk));\n",
              "      yield {\n",
              "        response: {\n",
              "          action: 'append',\n",
              "          file: file.name,\n",
              "          data: base64,\n",
              "        },\n",
              "      };\n",
              "\n",
              "      let percentDone = fileData.byteLength === 0 ?\n",
              "          100 :\n",
              "          Math.round((position / fileData.byteLength) * 100);\n",
              "      percent.textContent = `${percentDone}% done`;\n",
              "\n",
              "    } while (position < fileData.byteLength);\n",
              "  }\n",
              "\n",
              "  // All done.\n",
              "  yield {\n",
              "    response: {\n",
              "      action: 'complete',\n",
              "    }\n",
              "  };\n",
              "}\n",
              "\n",
              "scope.google = scope.google || {};\n",
              "scope.google.colab = scope.google.colab || {};\n",
              "scope.google.colab._files = {\n",
              "  _uploadFiles,\n",
              "  _uploadFilesContinue,\n",
              "};\n",
              "})(self);\n",
              "</script> "
            ]
          },
          "metadata": {}
        },
        {
          "output_type": "stream",
          "name": "stdout",
          "text": [
            "Saving dataset.csv to dataset.csv\n"
          ]
        }
      ]
    },
    {
      "cell_type": "code",
      "execution_count": null,
      "metadata": {
        "id": "IDowW139b7G7"
      },
      "outputs": [],
      "source": [
        "# import dataset\n",
        "\n",
        "data = 'dataset.csv'\n",
        "\n",
        "df = pd.read_csv(data)\n"
      ]
    },
    {
      "cell_type": "markdown",
      "metadata": {
        "id": "kjtYadqjb7G7"
      },
      "source": [
        "## 6. Dataset description\n",
        "\n",
        "Используем набор данных `Parking Birmingham Data Set` для этого проекта. Набор данных - парковка автомобилей в городе Бирмингем в Великобритании.\n",
        "\n",
        "Данные показывают уровень загруженности (с 8:00 до 16:30) автомобилей с 2016/10/04 по 2016/12/19. Набор данных содержит 35717 экземпляров и 4 атрибута.\n",
        "\n",
        "Набор данных можно найти по следующему адресу:\n",
        "\n",
        "https://archive.ics.uci.edu/ml/datasets/Parking+Birmingham\n",
        "\n",
        "\n"
      ]
    },
    {
      "cell_type": "markdown",
      "metadata": {
        "id": "sR-atuBHb7G7"
      },
      "source": [
        "## 7. Исследовательский анализ данных\n",
        "\n",
        "Проверим размерность датафрейма с помощью метода **shape()**.\n",
        "\n",
        "`df.shape`"
      ]
    },
    {
      "cell_type": "code",
      "execution_count": null,
      "metadata": {
        "id": "zTDOKC7_b7G7"
      },
      "outputs": [],
      "source": [
        "# view the shape of the dataframe\n",
        "\n",
        "df.shape"
      ]
    },
    {
      "cell_type": "markdown",
      "metadata": {
        "id": "Cc1GtHUgb7G8"
      },
      "source": [
        "В наборе данных 35717 записей и 4 столбца."
      ]
    },
    {
      "cell_type": "markdown",
      "metadata": {
        "id": "ovTfYe2Hb7G8"
      },
      "source": [
        "Далее выведем первые пять строк набора данных с помощью метода **head()**."
      ]
    },
    {
      "cell_type": "code",
      "execution_count": null,
      "metadata": {
        "id": "d7XjzTePb7G8"
      },
      "outputs": [],
      "source": [
        "# view the first five rows of dataset\n",
        "\n",
        "df.head()"
      ]
    },
    {
      "cell_type": "markdown",
      "metadata": {
        "id": "dryFeIBXb7G8"
      },
      "source": [
        "Столбец `LastUpdated` содержит дату и время, объединенные в один столбец временной метки. Требуется разделить на два отдельных столбца."
      ]
    },
    {
      "cell_type": "markdown",
      "metadata": {
        "id": "R2A1Rm47b7G8"
      },
      "source": [
        "Используем методом **info()**, чтобы просмотреть краткую информацию по датафрейму."
      ]
    },
    {
      "cell_type": "code",
      "execution_count": null,
      "metadata": {
        "id": "2QP-2fNTb7G9"
      },
      "outputs": [],
      "source": [
        "# view summary of dataframe\n",
        "\n",
        "df.info()"
      ]
    },
    {
      "cell_type": "markdown",
      "metadata": {
        "id": "2ZFP2ysub7G9"
      },
      "source": [
        "Видно, что столбец `LastUpdated` имеет тип данных object. Требуется преобразовать его в формат datatime. Можно использовать метод pandas **to_datetime()**. Он даст два столбца `Date` и `Time` с разделенными датами.\n",
        "\n",
        "преобразуем столбец `LastUpdated` в формат `datetime`"
      ]
    },
    {
      "cell_type": "code",
      "execution_count": null,
      "metadata": {
        "id": "_VmkjM8Tb7G9"
      },
      "outputs": [],
      "source": [
        "# convert the lastUpdated column into datetime format\n",
        "\n",
        "df['LastUpdated'] = pd.to_datetime(df['LastUpdated'])"
      ]
    },
    {
      "cell_type": "code",
      "execution_count": null,
      "metadata": {
        "id": "m0h6sQOnb7G9"
      },
      "outputs": [],
      "source": [
        "# еще раз просмотрите сводку по dataframe\n",
        "\n",
        "df.info()"
      ]
    },
    {
      "cell_type": "markdown",
      "metadata": {
        "id": "XWplaaGSb7G9"
      },
      "source": [
        "Теперь  видим, что столбец `LastUpdated` имеет тип данных `datetime`. Разобьем этот столбец `LastUpdated` на два отдельных столбца `Date` и `Time`."
      ]
    },
    {
      "cell_type": "code",
      "execution_count": null,
      "metadata": {
        "id": "dyHy5y93b7G9"
      },
      "outputs": [],
      "source": [
        "df['Date'] = df['LastUpdated'].dt.date\n",
        "\n",
        "df['Time'] = df['LastUpdated'].dt.time\n"
      ]
    },
    {
      "cell_type": "markdown",
      "metadata": {
        "id": "vfhMNmndb7G9"
      },
      "source": [
        "Столбец «LastUpdated» теперь разделен на два отдельных столбца"
      ]
    },
    {
      "cell_type": "code",
      "execution_count": null,
      "metadata": {
        "id": "86iviRgVb7G-"
      },
      "outputs": [],
      "source": [
        "# again view the first ten rows of dataset\n",
        "\n",
        "df.head(10)"
      ]
    },
    {
      "cell_type": "markdown",
      "metadata": {
        "id": "vyYzBuwFb7G-"
      },
      "source": [
        "Теперь удалим лишние столбцы из набора данных временного ряда."
      ]
    },
    {
      "cell_type": "code",
      "execution_count": null,
      "metadata": {
        "id": "qjCYab0Yb7G-"
      },
      "outputs": [],
      "source": [
        "# remove redundant columns\n",
        "\n",
        "cols = ['SystemCodeNumber', 'Capacity', 'LastUpdated']\n",
        "\n",
        "df.drop(cols, axis=1, inplace=True)"
      ]
    },
    {
      "cell_type": "markdown",
      "metadata": {
        "id": "EAtbDlFyb7G-"
      },
      "source": [
        "Проверить типы данных столбцов."
      ]
    },
    {
      "cell_type": "code",
      "execution_count": null,
      "metadata": {
        "id": "RHBlnVE-b7G-"
      },
      "outputs": [],
      "source": [
        "# check the data types of the columns\n",
        "\n",
        "df.dtypes"
      ]
    },
    {
      "cell_type": "markdown",
      "metadata": {
        "id": "fmarKucnb7G-"
      },
      "source": [
        "идно, что столбец `Date` имеет тип данных `object`. Он должен иметь формат `datetime`. Преобразуем тип данных столбца `Date` из типа данных `object` в формат `datetime`. Метод `to_datetime()` библиотеки Pandas позволяет  преобразовать тип данных object в формат `datetime` библиотеки Python."
      ]
    },
    {
      "cell_type": "code",
      "execution_count": null,
      "metadata": {
        "id": "UxTrgkKNb7G_"
      },
      "outputs": [],
      "source": [
        "# convert the data type of Date column\n",
        "\n",
        "df['Date']=pd.to_datetime(df['Date'])"
      ]
    },
    {
      "cell_type": "code",
      "execution_count": null,
      "metadata": {
        "id": "QsersRCab7G_"
      },
      "outputs": [],
      "source": [
        "# again check the data type of df dataframe\n",
        "\n",
        "df.dtypes"
      ]
    },
    {
      "cell_type": "markdown",
      "metadata": {
        "id": "c4LKP9Yvb7G_"
      },
      "source": [
        "Теперь видим, что тип данных столбца `Date` — `datetime`."
      ]
    },
    {
      "cell_type": "markdown",
      "metadata": {
        "id": "gPU2DfThb7G_"
      },
      "source": [
        "## 8. Индексирование временных рядов\n",
        "\n",
        "При работе с данными временных рядов в Python всегда необходимо устанавливать даты в качестве индекса. Поэтому определим столбец `Date` в качестве индекса фрейма данных."
      ]
    },
    {
      "cell_type": "code",
      "execution_count": null,
      "metadata": {
        "id": "TWcaweKyb7G_"
      },
      "outputs": [],
      "source": [
        "# set the index of the dataframe\n",
        "\n",
        "df.set_index('Date', inplace=True)\n",
        "\n",
        "df.index"
      ]
    },
    {
      "cell_type": "markdown",
      "metadata": {
        "id": "_SO0UaQUb7HA"
      },
      "source": [
        "Поле `dtype=datetime[ns]` состоит из объекта `datestamp`. `length=35717` предполагается, что  есть 35717 меток с датой. Параметр `freq=None` предполагает, что частота для метки даты не указана.\n"
      ]
    },
    {
      "cell_type": "markdown",
      "metadata": {
        "id": "mcpXmzhqb7HA"
      },
      "source": [
        "## 9. Повторная выборка временных рядов\n",
        "\n",
        "Если более внимательно рассмотреть данные, увидим, что существуют разные временные промежутки в течение одного дня. С этим типом данных, как правило, сложно работать. Поэтому преобразуем набор данных в более удобный.\n",
        "\n",
        "Используем функцию `resample()` из pandas dataframe, которая используется для  временных рядов. Она позволяет группировать временные ряды в блоки (1 день или 1 месяц), применим функцию к каждой группе (по среднему) и преобразуем выбранные данные."
      ]
    },
    {
      "cell_type": "code",
      "execution_count": null,
      "metadata": {
        "id": "WzwVMLJ4b7HA"
      },
      "outputs": [],
      "source": [
        "y=df['Occupancy'].resample('D').mean()\n",
        "\n",
        "y.head(10)\n"
      ]
    },
    {
      "cell_type": "markdown",
      "metadata": {
        "id": "w7yu1LsXb7HA"
      },
      "source": [
        "Здесь термин `D` означает, что группируем данные в блоки по дням и вычисляем среднее значение в течении одного дня."
      ]
    },
    {
      "cell_type": "markdown",
      "metadata": {
        "id": "tmC17saKb7HF"
      },
      "source": [
        "## 10. Обработка пропущенных значений временного ряда\n",
        "\n",
        "Проверим пустые значения в данных временного ряда."
      ]
    },
    {
      "cell_type": "code",
      "execution_count": null,
      "metadata": {
        "id": "xKsth4Lcb7HF"
      },
      "outputs": [],
      "source": [
        "y.isnull().sum()"
      ]
    },
    {
      "cell_type": "markdown",
      "metadata": {
        "id": "iLUc-f2Kb7HF"
      },
      "source": [
        "Приведенная выше команда показывает, что во временном ряде присутствуют 4 дня с пропущенными значениями.\n",
        "\n",
        "Заполним пропущенные значения с помощью команды pandas `fillna()`. Используем аргумент `method=bfill` для заполнения пропущенных значений.\n",
        "\n",
        "Команда y.fillna(method='bfill', inplace=True) используется для заполнения пропущенных значений в данных (NaN) методом обратного заполнения (backfill). Вот что она делает:\n",
        "\n",
        "method='bfill' (обратное заполнение):\n",
        "\n",
        "Пропущенные значения (NaN) заполняются следующим доступным значением снизу по столбцу или индексу.\n",
        "Например:\n",
        "\n",
        "[1, NaN, NaN, 4]\n",
        "\n",
        "после применения bfill станет:\n",
        "\n",
        "[1, 4, 4, 4]\n",
        "\n",
        "inplace=True:\n",
        "\n",
        "Указывает, что изменения должны быть применены непосредственно к исходному объекту y, без создания его копии.\n",
        "\n",
        "Если inplace=False (по умолчанию), то метод возвращает новый объект с заполненными значениями, а оригинальный объект остается неизменным."
      ]
    },
    {
      "cell_type": "code",
      "execution_count": null,
      "metadata": {
        "id": "oGSRqkYGb7HG"
      },
      "outputs": [],
      "source": [
        "y.fillna(method='bfill', inplace=True)"
      ]
    },
    {
      "cell_type": "markdown",
      "metadata": {
        "id": "dD2hoPnvb7HG"
      },
      "source": [
        "Проверяем наличие пропущенных значений во временном ряду."
      ]
    },
    {
      "cell_type": "code",
      "execution_count": null,
      "metadata": {
        "id": "wZF-tV-tb7HG"
      },
      "outputs": [],
      "source": [
        "y.isnull().sum()"
      ]
    },
    {
      "cell_type": "markdown",
      "metadata": {
        "id": "VaI8OiTXb7HG"
      },
      "source": [
        "временной ряд не содержит пропущенных значений."
      ]
    },
    {
      "cell_type": "markdown",
      "metadata": {
        "id": "YpIjAJuAb7HG"
      },
      "source": [
        "## 11. 11. Визуализация данных временного ряда\n",
        "\n",
        "Визуализация данных временного ряда является важным шагом в анализе временных рядов. Она поможет нам визуализировать несколько важных вещей,\n",
        "таких как:-\n",
        "\n",
        "-**сезонность**(**seasonality**) — отображают ли данные временного ряда сезонность или периодическую закономерность?\n",
        "\n",
        "-**тренд**(**trend**) — отображают ли данные временного ряда постоянный восходящий или нисходящий наклон?\n",
        "\n",
        "-**шум**(**noise**) — есть ли какие-либо выбросы или пропущенные значения, которые не соответствуют данным временного ряда?\n",
        "\n",
        "Визуализация помогает ответить на эти вопросы.\n"
      ]
    },
    {
      "cell_type": "code",
      "execution_count": null,
      "metadata": {
        "id": "KyQA5ICZb7HG"
      },
      "outputs": [],
      "source": [
        "# visualize the time series data\n",
        "\n",
        "y.plot(figsize=(15, 6))\n",
        "\n",
        "plt.show()\n"
      ]
    },
    {
      "cell_type": "markdown",
      "metadata": {
        "id": "kdAPd2QHb7HH"
      },
      "source": [
        "Приведенный выше график показывает интересную закономерность во временном ряде. Он имеет сезонный характер, но не демонстрирует возрастающего или убывающего тренда. Из графика видно, что заполняемость (Occupancy) увеличивается в декабре. Возможно, это связано с празднованием Рождества в декабре."
      ]
    },
    {
      "cell_type": "markdown",
      "metadata": {
        "id": "cYmr16NIb7HH"
      },
      "source": [
        "## 12. Сезонная декомпозиция временных рядов\n",
        "\n",
        "Есть еще один метод визуализации данных временных рядов. Этот метод называется **декомпозицией временных рядов**. Он позволяет разложить временные ряды на три отдельных компонента — тренд, сезонность и шум.\n",
        "\n",
        "Python предоставляет модуль `statsmodels`, который предоставляет инструменты и методы для статистического анализа и моделирования. Этот модуль `statsmodels` предоставляет функцию `seasonal_decompose` для выполнения сезонной декомпозиции.\n",
        "\n",
        "Сезонная декомпозиция возвращает число относительно небольшого размера. Поэтому первые две строки фрагмента кода гарантируют, что выходное число будет достаточно большим для визуализации. Выполнить сезонную декомпозицию в Python с помощью следующих строк кода:-"
      ]
    },
    {
      "cell_type": "code",
      "execution_count": null,
      "metadata": {
        "colab": {
          "base_uri": "https://localhost:8080/",
          "height": 800
        },
        "id": "lmRxe936b7HH",
        "outputId": "d3d033c8-384a-415b-c5e8-ba962d0f3ead"
      },
      "outputs": [
        {
          "output_type": "display_data",
          "data": {
            "text/plain": [
              "<Figure size 1200x800 with 4 Axes>"
            ],
            "image/png": "[encoded data removed]"
          },
          "metadata": {}
        }
      ],
      "source": [
        "from pylab import rcParams\n",
        "\n",
        "rcParams['figure.figsize'] = 12, 8\n",
        "\n",
        "decomposition = sm.tsa.seasonal_decompose(y, model='additive')\n",
        "\n",
        "fig = decomposition.plot()\n",
        "\n",
        "plt.show()"
      ]
    },
    {
      "cell_type": "markdown",
      "metadata": {
        "id": "TB-MuSHtb7HH"
      },
      "source": [
        "Разложение временных рядов позволяет легко визуализировать данные в понятной форме. Это помогает идентифицировать вариации во временных рядах.\n",
        "\n",
        "Приведенный выше график показывает восходящую тенденцию во временных рядах. Его можно использовать для понимания структуры временных рядов. Разложение временных рядов важно, поскольку многие методы прогнозирования построены на этой концепции структурированного разложения для создания прогнозов."
      ]
    },
    {
      "cell_type": "markdown",
      "metadata": {
        "id": "OAY-A6sbb7HH"
      },
      "source": [
        "## 13. Модель временных рядов ARIMA\n",
        "\n",
        "Один из наиболее распространенных методов, используемых в прогнозировании временных рядов, известен как **модель ARIMA**. ARIMA означает **Авторегрессивное интегрированное скользящее среднее**. Это обобщение модели авторегрессивного скользящего среднего (ARMA). Эти модели подгоняются под данные временных рядов для лучшего понимания данных или для прогнозирования будущих значений в ряде, называемых **прогнозированием**.\n",
        "\n",
        "Часть AR в ARIMA указывает, что интересующая нас переменная, регрессирует на основе предыдущих значений. Часть MA указывает, что ошибка регрессии на самом деле является линейной комбинацией членов ошибки. I (от «интегрированный») указывает, что значения данных были заменены разницей между их значениями и предыдущими значениями (и этот процесс дифференцирования мог быть выполнен более одного раза). Цель этих функций — сделать так, чтобы модель максимально хорошо соответствовала данным.\n",
        "\n",
        "Существует три различных целых числа (p, d, q), которые используются для параметризации моделей ARIMA. Итак, модели ARIMA обозначаются ARIMA(p, d, q). Эти три параметра учитывают **сезонность**, **тренд** и **шум** в наборах данных временных рядов.\n",
        "\n",
        "- **p** — это авторегрессионная часть модели. Она позволяет включить влияние прошлых значений в текущую модель.\n",
        "\n",
        "- **d** — это интегрированная часть модели. Она включает в себя члены в модели, которые включают величину дифференциации для применения к временному ряду.\n",
        "\n",
        "- **q** — это скользящая средняя часть модели. Позволяет установить ошибку  модели как линейную комбинацию значений ошибок, наблюдаемых в предыдущие моменты времени.\n",
        "\n",
        "Несезонные модели ARIMA обычно обозначаются как `ARIMA(p,d,q)`, где параметры p, d и q — неотрицательные целые числа. `p` — это порядок (количество временных задержек) авторегрессионной модели, `d` — это степень дифференциации (количество раз, когда данные имели прошлые значения, вычитаемые), а `q` — это порядок модели скользящего среднего.\n",
        "\n",
        "Сезонные модели ARIMA обычно обозначаются как `ARIMA(p,d,q)(P,D,Q)s`, где `s` относится к количеству периодов в каждом сезоне, а заглавные P,D,Q относятся к авторегрессионным, дифференцирующим и скользящим средним терминам для сезонной части модели ARIMA. Термин `s` относится к периодичности временного ряда."
      ]
    },
    {
      "cell_type": "markdown",
      "metadata": {
        "id": "Jz-L_ZIUb7HH"
      },
      "source": [
        "## 14.\tВыбор параметров для модели временных рядов ARIMA\n",
        "\n",
        "Теперь проведем подгонку временных рядов с помощью сезонной модели ARIMA. Требуется найти оптимальные значения параметров для модели временных рядов `ARIMA(p,d,q)(P,D,Q)s`.\n",
        "\n",
        "Фрагмент кода будет использовать поиск по сетке для итеративного исследования различных комбинаций параметров. Для каждой комбинации параметров подгоняем новую сезонную модель ARIMA с помощью функции `SARIMAX()` из модуля statsmodels и оцениваем ее общее качество. Оптимальным набором параметров будет тот, который обеспечивает наилучшую производительность.\n",
        "\n",
        "\n"
      ]
    },
    {
      "cell_type": "code",
      "execution_count": null,
      "metadata": {
        "id": "VjBm6FyFb7HH"
      },
      "outputs": [],
      "source": [
        "# Определение параметров p, d и q, чтобы они принимали любое значение от 0 до 2\n",
        "p = d = q = range(0, 2)\n",
        "\n",
        "\n",
        "# генерация различных комбинаций триплетов p, q и q\n",
        "pdq = list(itertools.product(p, d, q))\n",
        "\n",
        "\n",
        "# генерация различных комбинаций  сезонных триплетов p, q и q\n",
        "seasonal_pdq = [(x[0], x[1], x[2], 4) for x in list(itertools.product(p, d, q))]\n",
        "\n",
        "\n",
        "print('Примеры комбинаций параметров для сезонного ARIMA.:-')\n",
        "print('SARIMAX: {} x {}'.format(pdq[1], seasonal_pdq[1]))\n",
        "print('SARIMAX: {} x {}'.format(pdq[1], seasonal_pdq[2]))\n",
        "print('SARIMAX: {} x {}'.format(pdq[2], seasonal_pdq[3]))\n",
        "print('SARIMAX: {} x {}'.format(pdq[2], seasonal_pdq[4]))"
      ]
    },
    {
      "cell_type": "markdown",
      "metadata": {
        "id": "n2lBe929b7HI"
      },
      "source": [
        "### Поиск по сетке или оптимизация гиперпараметров\n",
        "\n",
        "Вышеуказанные наборы триплетов параметров теперь можно использовать для автоматизации процесса обучения и оценки моделей ARIMA на\n",
        "различных комбинациях параметров. В статистике и машинном обучении этот процесс известен как **поиск по сетке (или оптимизация гиперпараметров)** для выбора модели.\n",
        "\n",
        "Статистические модели, подобранные с различными параметрами, можно ранжировать и сравнивать друг с другом на основе их значения `AIC`. Значение `AIC`, которое означает `Akaike Information Criterion`(**Информационный критерий Акаике**), удобно возвращается с моделями ARIMA, подобранными с помощью statsmodels. Измеряет, насколько хорошо модель соответствует данным, принимая во внимание общую сложность модели. Модель, которая  хорошо соответствует данным, используя множество признаков, будет присвоена большая оценка AIC, чем модели, которая использует меньше признаков для достижения того же качества соответствия. Поэтому мы заинтересованы в поиске модели, которая дает наименьшее значение `AIC`.\n",
        "\n",
        "Следующий фрагмент кода перебирает комбинации параметров и использует функцию `SARIMAX` из statsmodels для подгонки соответствующей сезонной модели ARIMA. Здесь аргумент order указывает параметры (p, d, q), а аргумент season_order указывает сезонный компонент (P, D, Q, S) сезонной модели ARIMA (Авторегрессионная интегрированная модель скользящего среднего с учетом сезонности). После подгонки каждой модели SARIMAX() код выводит соответствующую оценку AIC.\n"
      ]
    },
    {
      "cell_type": "code",
      "execution_count": null,
      "metadata": {
        "id": "n8D9X5b5b7HI"
      },
      "outputs": [],
      "source": [
        "warnings.filterwarnings(\"ignore\") # specify to ignore warning messages\n",
        "\n",
        "for param in pdq:\n",
        "    for param_seasonal in seasonal_pdq:\n",
        "        try:\n",
        "            mod = sm.tsa.statespace.SARIMAX(y,\n",
        "                                            order=param,\n",
        "                                            seasonal_order=param_seasonal,\n",
        "                                            enforce_stationarity=False,\n",
        "                                            enforce_invertibility=False)\n",
        "\n",
        "            results = mod.fit()\n",
        "\n",
        "            print('ARIMA{}x{}4 - AIC:{}'.format(param, param_seasonal, results.aic))\n",
        "        except:\n",
        "            continue"
      ]
    },
    {
      "cell_type": "markdown",
      "metadata": {
        "id": "iaGpteqmb7HI"
      },
      "source": [
        "Вывод результата показывает, что **SARIMAX(1, 1, 1)x(0, 1, 1, 4) **обеспечивает наименьшее значение **AIC 767,8663**. Поэтому считаем это является оптимальным вариантом из всех рассмотренных моделей."
      ]
    },
    {
      "cell_type": "markdown",
      "metadata": {
        "id": "BYtLt6apb7HI"
      },
      "source": [
        "## 15.Подгонка модели временного ряда ARIMA\n",
        "\n",
        "\n",
        "Определим оптимальный набор параметров, который создает наилучшую модель соответствия. Подгоним оптимальные значения параметров в новую модель `SARIMAX`."
      ]
    },
    {
      "cell_type": "code",
      "execution_count": null,
      "metadata": {
        "id": "diwFnt2Hb7HI"
      },
      "outputs": [],
      "source": [
        "model = sm.tsa.statespace.SARIMAX(y,\n",
        "                                order=(1, 1, 1),\n",
        "                                seasonal_order=(0, 1, 1, 4),\n",
        "                                enforce_stationarity=False,\n",
        "                                enforce_invertibility=False)\n",
        "\n",
        "results = model.fit()\n",
        "\n",
        "print(results.summary().tables[1])"
      ]
    },
    {
      "cell_type": "markdown",
      "metadata": {
        "id": "dqWSTfG6b7HJ"
      },
      "source": [
        "Приведенная выше итоговая таблица содержит достаточное количество информации. Столбец `coef` показывает вес или значимость каждой переменной и то, как каждая из них влияет на временной ряд. Столбец `P>|z|` демонстрирует статистическую значимость каждого веса переменной.\n",
        "\n",
        "Проведем диагностику модели для выявления возможных отклонений в поведении. Это важно для того, чтобы убедиться, что ни одно из предположений, заложенных в модели, не было нарушено. Объект `plot_diagnostics` используется для генерации диаграмм диагностики модели."
      ]
    },
    {
      "cell_type": "code",
      "execution_count": null,
      "metadata": {
        "id": "ENpGzD1Lb7HJ"
      },
      "outputs": [],
      "source": [
        "results.plot_diagnostics(figsize=(15, 12))\n",
        "\n",
        "plt.show()"
      ]
    },
    {
      "cell_type": "markdown",
      "metadata": {
        "id": "7p7FW8Tvb7HJ"
      },
      "source": [
        "Всегда требуется проверять, что остаточные ошибки(невязка модели) модели некоррелированы и распределены нормально с нулевым средним. Если сезонная модель ARIMA не удовлетворяет этим свойствам, то модель можно улучшить.\n",
        "\n",
        "В этом случае диагностика модели предполагает, что остаточные ошибки(невязка модели) модели не распределены нормально, основываясь на следующих наблюдениях:-\n",
        "\n",
        "- На верхнем правом графике видим, что красная линия KDE не следует за линией N(0,1). Это показывает, что Остаточные ошибки(невязка модели) не распределены нормально.\n",
        "\n",
        "- График qq в нижнем левом углу показывает, что упорядоченное распределение остатков (синие точки) следует линейному тренду выборок, взятых из стандартного нормального распределения с N(0, 1). Это весомый признак того, что Остаточные ошибки(невязка модели) не распределены нормально.\n",
        "\n",
        "- Остаточные ошибки(невязка модели) с течением времени (верхний левый график) не демонстрируют никакой очевидной сезонности и кажутся белым шумом. Это подтверждается графиком автокорреляции (т. е. коррелограммы) в нижнем правом углу. Это показывает, что Остаточные ошибки(невязка модели) временного ряда имеют низкую корреляцию с запаздывающими версиями самого себя.\n",
        "\n",
        "Таким образом, можем сделать вывод, что модель не дает удовлетворительного соответствия данным временного ряда. Можно изменить некоторые параметры сезонной модели ARIMA, чтобы улучшить соответствие модели. Поиск по сетке рассматривал только ограниченный набор комбинаций параметров. Мы можем найти лучшие модели, если расширим поиск по сетке.\n",
        "\n",
        "Хотя модель не дает удовлетворительного соответствия данным, но для тестового примера будем ее использовать, чтобы проиллюстрировать процесс проверки и создания прогнозов в демонстрационных целях.\n"
      ]
    },
    {
      "cell_type": "markdown",
      "metadata": {
        "id": "JyZCVs2ab7HJ"
      },
      "source": [
        "## 16.\tСоздание и визуализация прогнозов\n",
        "\n",
        "Рассмотрим использование этой модели временных рядов для прогнозирования будущих значений. Атрибут `get_forecast()` объекта временных рядов позволяет вычислять прогнозируемые значения на заданное количество шагов вперед."
      ]
    },
    {
      "cell_type": "code",
      "execution_count": null,
      "metadata": {
        "id": "cbwVSrlbb7HJ"
      },
      "outputs": [],
      "source": [
        "# Get forecast 100 steps ahead in future\n",
        "pred_uc = results.get_forecast(steps=100)\n",
        "\n",
        "# Get confidence intervals of forecasts\n",
        "pred_ci = pred_uc.conf_int()\n",
        "\n",
        "ax = y.plot(label='observed', figsize=(12, 8))\n",
        "\n",
        "pred_uc.predicted_mean.plot(ax=ax, label='forecast')\n",
        "\n",
        "ax.fill_between(pred_ci.index,\n",
        "                pred_ci.iloc[:, 0],\n",
        "                pred_ci.iloc[:, 1], color='k', alpha=.25)\n",
        "\n",
        "ax.set_xlabel('Date')\n",
        "ax.set_ylabel('Occupancy')\n",
        "\n",
        "plt.legend()\n",
        "plt.show()"
      ]
    },
    {
      "cell_type": "markdown",
      "metadata": {
        "id": "0WWdNMYdb7HJ"
      },
      "source": [
        "Прогнозные значения и соответствующие доверительные интервалы теперь можно использовать для дальнейшего изучения временного ряда и его понимания."
      ]
    },
    {
      "cell_type": "markdown",
      "metadata": {
        "id": "ghZhtD9Nb7HJ"
      },
      "source": [
        "## 17.\tЗаключение\n",
        "\n",
        "В этом проекте реализованна Сезонная модель временных рядов ARIMA в Python для прогнозирования показателей заполняемости парковок в\n",
        "Наборе данных Parking Birmingham. Прогнозы показывают, что модель временных рядов, как ожидается, продолжит расти устойчивыми темпами.\n",
        "\n",
        "Чем больше временной интервал брать в предстоящих датах для создания прогноза, тем менее точный прогноз будем получать."
      ]
    }
  ],
  "metadata": {
    "kernelspec": {
      "display_name": "Python 3",
      "language": "python",
      "name": "python3"
    },
    "language_info": {
      "codemirror_mode": {
        "name": "ipython",
        "version": 3
      },
      "file_extension": ".py",
      "mimetype": "text/x-python",
      "name": "python",
      "nbconvert_exporter": "python",
      "pygments_lexer": "ipython3",
      "version": "3.7.0"
    },
    "colab": {
      "provenance": []
    }
  },
  "nbformat": 4,
  "nbformat_minor": 0
}